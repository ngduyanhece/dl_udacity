{
 "cells": [
  {
   "cell_type": "markdown",
   "metadata": {
    "deletable": true,
    "editable": true
   },
   "source": [
    "### my own implementation of the cnn "
   ]
  },
  {
   "cell_type": "code",
   "execution_count": 1,
   "metadata": {
    "collapsed": true,
    "deletable": true,
    "editable": true
   },
   "outputs": [],
   "source": [
    "import numpy as np\n",
    "import tensorflow as tf\n",
    "import matplotlib.pyplot as plt\n",
    "from sklearn.utils import shuffle\n",
    "from six.moves import cPickle as pickle\n",
    "from six.moves import range\n",
    "%matplotlib inline"
   ]
  },
  {
   "cell_type": "code",
   "execution_count": 2,
   "metadata": {
    "collapsed": true,
    "deletable": true,
    "editable": true
   },
   "outputs": [],
   "source": [
    "def init_weight_and_bias(M1,M2):\n",
    "    W = np.random.randn(M1,M2) / np.sqrt(M1 + M2)\n",
    "    b = np.zeros(M2)\n",
    "    return W.astype(np.float32), b.astype(np.float32)"
   ]
  },
  {
   "cell_type": "code",
   "execution_count": 3,
   "metadata": {
    "collapsed": true,
    "deletable": true,
    "editable": true
   },
   "outputs": [],
   "source": [
    "def accuracy(predictions, labels):\n",
    "  return (100.0 * np.sum(np.argmax(predictions, 1) == np.argmax(labels, 1))\n",
    "          / predictions.shape[0])"
   ]
  },
  {
   "cell_type": "code",
   "execution_count": 4,
   "metadata": {
    "collapsed": true,
    "deletable": true,
    "editable": true
   },
   "outputs": [],
   "source": [
    "def reformat(dataset, labels):\n",
    "    dataset = dataset.reshape(\n",
    "        (-1, image_size, image_size, num_channels)).astype(np.float32)\n",
    "    labels = (np.arange(num_labels) == labels[:,None]).astype(np.float32)\n",
    "    return dataset, labels"
   ]
  },
  {
   "cell_type": "code",
   "execution_count": 5,
   "metadata": {
    "collapsed": true,
    "deletable": true,
    "editable": true
   },
   "outputs": [],
   "source": [
    "class HiddenLayer(object):\n",
    "    def __init__(self,M1,M2,an_id):\n",
    "        self.id = an_id\n",
    "        self.M1 = M1\n",
    "        self.M2 = M2\n",
    "        W,b = init_weight_and_bias(M1,M2)\n",
    "        self.W = tf.Variable(W)\n",
    "        self.b = tf.Variable(b)\n",
    "        self.params = [self.W,self.b]\n",
    "    def forward(self,X):\n",
    "        return tf.nn.relu(tf.matmul(X,self.W) + self.b)\n",
    "        "
   ]
  },
  {
   "cell_type": "code",
   "execution_count": 6,
   "metadata": {
    "collapsed": true,
    "deletable": true,
    "editable": true
   },
   "outputs": [],
   "source": [
    "class ConvPoolLayer(object):\n",
    "    def __init__(self,mi,mo,fw=5,fh=5,poolsz=(2,2),padding='SAME'):\n",
    "        self.W = tf.Variable(tf.truncated_normal([fw,fh,mi,mo],stddev=0.1))\n",
    "        self.b = tf.Variable(tf.zeros([mo]))\n",
    "        self.poolsz = poolsz\n",
    "        self.params = [self.W,self.b]\n",
    "        self.padding = padding\n",
    "    def forward(self,X,strides=[1,1,1,1]):\n",
    "        conv_out = tf.nn.conv2d(X,self.W,strides=strides,padding='SAME')\n",
    "        conv_out = tf.nn.bias_add(conv_out,self.b)\n",
    "        p1,p2 = self.poolsz\n",
    "        pool_out = tf.nn.max_pool(\n",
    "            conv_out,\n",
    "            ksize = [1,p1,p2,1],\n",
    "            strides = [1,p1,p2,1],\n",
    "            padding = self.padding\n",
    "        )\n",
    "        return tf.nn.relu(pool_out)"
   ]
  },
  {
   "cell_type": "code",
   "execution_count": 7,
   "metadata": {
    "collapsed": false,
    "deletable": true,
    "editable": true
   },
   "outputs": [],
   "source": [
    "class CNN(object):\n",
    "    def __init__(self,convpool_layer_sizes,hidden_layer_sizes):\n",
    "        self.convpool_layer_sizes = convpool_layer_sizes\n",
    "        self.hidden_layer_sizes = hidden_layer_sizes\n",
    "        \n",
    "    def train(self,X,Y,X_valid = None,Y_valid = None, lr=10e-4, mu=0.99, reg=10e-4, decay=0.99999, eps=10e-3, batch_sz=30, epochs=3, show_fig=True):\n",
    "        #convert hyper-parameter to np.float32\n",
    "        lr = np.float32(lr)\n",
    "        mu = np.float32(mu)\n",
    "        reg = np.float32(reg)\n",
    "        decay = np.float32(decay)\n",
    "        eps = np.float32(eps)\n",
    "        K = 10\n",
    "        X, Y = shuffle(X, Y)\n",
    "        X = X.astype(np.float32)\n",
    "        Y = Y.astype(np.float32)\n",
    "        # initialize convpool layers\n",
    "        N,w,h,c = X.shape\n",
    "        mi = c\n",
    "        outw = w\n",
    "        outh = h\n",
    "        self.convpool_layers = []\n",
    "        for mo,fw,fh in self.convpool_layer_sizes:\n",
    "            layer = ConvPoolLayer(mi,mo,fw,fh)\n",
    "            mi = mo \n",
    "            outw = outw / 2\n",
    "            outh = outh / 2\n",
    "            self.convpool_layers.append(layer)\n",
    "        self.hidden_layers = []\n",
    "        M1 = self.convpool_layer_sizes[-1][0]*outw*outh\n",
    "        count = 0\n",
    "        for M2 in self.hidden_layer_sizes:\n",
    "            hidden = HiddenLayer(M1,M2,count)\n",
    "            self.hidden_layers.append(hidden)\n",
    "            M1 = M2\n",
    "            count += 1\n",
    "        #logistic regression layer\n",
    "        W,b = init_weight_and_bias(M1,K)\n",
    "        self.W = tf.Variable(W,'W_logreg')\n",
    "        self.b = tf.Variable(b,'b_logreg')\n",
    "        self.params = [self.W,self.b]\n",
    "        for c_layer in self.convpool_layers:\n",
    "            self.params += c_layer.params\n",
    "        for h_layer in self.hidden_layers:\n",
    "            self.params += h_layer.params\n",
    "        #set up variables for tensorflow\n",
    "        tf_X_train = tf.placeholder(tf.float32,shape=(None,w,h,c))\n",
    "        tf_Y_train = tf.placeholder(tf.float32,shape=(None,K))\n",
    "        logits = self.forward(tf_X_train)\n",
    "        r_cost = reg*np.sum([tf.nn.l2_loss(p) for p in self.params])\n",
    "        cost = tf.reduce_mean(tf.nn.softmax_cross_entropy_with_logits(labels=tf_Y_train,logits=logits))\n",
    "        loss = cost + r_cost\n",
    "        prediction = self.predict(tf_X_train)\n",
    "        train_op = tf.train.RMSPropOptimizer(lr, decay=decay, momentum=mu).minimize(loss)\n",
    "        n_batches = N / batch_sz\n",
    "        train_costs = []\n",
    "        valid_costs = []\n",
    "        init = tf.global_variables_initializer()\n",
    "        with tf.Session() as session:\n",
    "            session.run(init)\n",
    "            for epoch in xrange(epochs):\n",
    "                X,Y = shuffle(X,Y)\n",
    "                for j in xrange(n_batches):\n",
    "                    X_batch = X[j*batch_sz: (j*batch_sz + batch_sz)]\n",
    "                    Y_batch = Y[j*batch_sz: (j*batch_sz + batch_sz)]\n",
    "                    session.run(train_op,feed_dict={tf_X_train:X_batch,tf_Y_train:Y_batch})\n",
    "                    if j % 100 == 0:\n",
    "                        if Y_valid != None:\n",
    "                            print(\"calculating valid cost:\")\n",
    "                            vc = session.run(cost, feed_dict={tf_X_train: X_valid, tf_Y_train: Y_valid})\n",
    "                            valid_costs.append(vc)\n",
    "                            pv = session.run(prediction, feed_dict={tf_X_train: X_valid, tf_Y_train: Y_valid})\n",
    "                            va = accuracy(pv,Y_valid)\n",
    "                        print(\"calculating training cost:\")\n",
    "                        tc = session.run(loss, feed_dict={tf_X_train: X_batch, tf_Y_train: Y_batch})\n",
    "                        train_costs.append(tc)\n",
    "                        pt = session.run(prediction, feed_dict={tf_X_train: X_batch, tf_Y_train: Y_batch})\n",
    "                        ta = accuracy(pt,Y_batch)\n",
    "                        print \"epoach:\", epoch, \"batch:\", j, \"nb:\", n_batches\n",
    "                        if Y_valid != None:\n",
    "                            print \"validation cost:\", vc, \"validation accuracy:\", va\n",
    "                        print \"training cost:\", tc, \"training accuracy:\", ta\n",
    "        if show_fig:\n",
    "            plt.plot(train_costs)\n",
    "            plt.plot(valid_costs)\n",
    "            plt.show()\n",
    "    def forward(self,X):\n",
    "        Z = X\n",
    "        for c in self.convpool_layers:\n",
    "            Z = c.forward(Z)\n",
    "        #fully connected layer \n",
    "        Z_shape = Z.get_shape().as_list()\n",
    "        Z = tf.reshape(Z, [-1, np.prod(Z_shape[1:])])\n",
    "        for h in self.hidden_layers:\n",
    "            Z = h.forward(Z)\n",
    "        return tf.matmul(Z,self.W) + self.b\n",
    "    def predict(self,X):\n",
    "        logits = self.forward(X)\n",
    "        return tf.nn.softmax(logits)"
   ]
  },
  {
   "cell_type": "code",
   "execution_count": 8,
   "metadata": {
    "collapsed": false,
    "deletable": true,
    "editable": true
   },
   "outputs": [
    {
     "name": "stdout",
     "output_type": "stream",
     "text": [
      "('Training set', (200000, 28, 28), (200000,))\n",
      "('Validation set', (10000, 28, 28), (10000,))\n",
      "('Test set', (10000, 28, 28), (10000,))\n"
     ]
    }
   ],
   "source": [
    "pickle_file = 'notMNIST.pickle'\n",
    "with open(pickle_file, 'rb') as f:\n",
    "    save = pickle.load(f)\n",
    "    train_dataset = save['train_dataset']\n",
    "    train_labels = save['train_labels']\n",
    "    valid_dataset = save['valid_dataset']\n",
    "    valid_labels = save['valid_labels']\n",
    "    test_dataset = save['test_dataset']\n",
    "    test_labels = save['test_labels']\n",
    "    del save  # hint to help gc free up memory\n",
    "    print('Training set', train_dataset.shape, train_labels.shape)\n",
    "    print('Validation set', valid_dataset.shape, valid_labels.shape)\n",
    "    print('Test set', test_dataset.shape, test_labels.shape)"
   ]
  },
  {
   "cell_type": "code",
   "execution_count": 9,
   "metadata": {
    "collapsed": false,
    "deletable": true,
    "editable": true
   },
   "outputs": [
    {
     "name": "stdout",
     "output_type": "stream",
     "text": [
      "('Training set', (200000, 28, 28, 1), (200000, 10))\n",
      "('Validation set', (10000, 28, 28, 1), (10000, 10))\n",
      "('Test set', (10000, 28, 28, 1), (10000, 10))\n"
     ]
    }
   ],
   "source": [
    "image_size = 28\n",
    "num_labels = 10\n",
    "num_channels = 1 # grayscale\n",
    "\n",
    "import numpy as np\n",
    "\n",
    "def reformat(dataset, labels):\n",
    "    dataset = dataset.reshape(\n",
    "    (-1, image_size, image_size, num_channels)).astype(np.float32)\n",
    "    labels = (np.arange(num_labels) == labels[:,None]).astype(np.float32)\n",
    "    return dataset, labels\n",
    "train_dataset, train_labels = reformat(train_dataset, train_labels)\n",
    "valid_dataset, valid_labels = reformat(valid_dataset, valid_labels)\n",
    "test_dataset, test_labels = reformat(test_dataset, test_labels)\n",
    "print('Training set', train_dataset.shape, train_labels.shape)\n",
    "print('Validation set', valid_dataset.shape, valid_labels.shape)\n",
    "print('Test set', test_dataset.shape, test_labels.shape)"
   ]
  },
  {
   "cell_type": "code",
   "execution_count": 10,
   "metadata": {
    "collapsed": false,
    "deletable": true,
    "editable": true
   },
   "outputs": [],
   "source": [
    "model = CNN(\n",
    "    convpool_layer_sizes=[(64, 11, 11), (20, 5, 5)],\n",
    "    hidden_layer_sizes=[500, 300],\n",
    ")"
   ]
  },
  {
   "cell_type": "code",
   "execution_count": 11,
   "metadata": {
    "collapsed": false,
    "deletable": true,
    "editable": true
   },
   "outputs": [
    {
     "name": "stdout",
     "output_type": "stream",
     "text": [
      "calculating training cost:\n",
      "epoach: 0 batch: 0 nb: 1562\n",
      "training cost: 2.86656 training accuracy: 4.6875\n",
      "calculating training cost:\n",
      "epoach: 0 batch: 100 nb: 1562\n",
      "training cost: 1.42224 training accuracy: 82.03125\n",
      "calculating training cost:\n",
      "epoach: 0 batch: 200 nb: 1562\n",
      "training cost: 0.843455 training accuracy: 85.9375\n",
      "calculating training cost:\n",
      "epoach: 0 batch: 300 nb: 1562\n",
      "training cost: 0.942121 training accuracy: 83.59375\n",
      "calculating training cost:\n",
      "epoach: 0 batch: 400 nb: 1562\n",
      "training cost: 0.680147 training accuracy: 93.75\n",
      "calculating training cost:\n",
      "epoach: 0 batch: 500 nb: 1562\n",
      "training cost: 0.747414 training accuracy: 91.40625\n",
      "calculating training cost:\n",
      "epoach: 0 batch: 600 nb: 1562\n",
      "training cost: 0.867894 training accuracy: 86.71875\n",
      "calculating training cost:\n",
      "epoach: 0 batch: 700 nb: 1562\n",
      "training cost: 0.825948 training accuracy: 86.71875\n",
      "calculating training cost:\n",
      "epoach: 0 batch: 800 nb: 1562\n",
      "training cost: 0.75842 training accuracy: 89.0625\n",
      "calculating training cost:\n",
      "epoach: 0 batch: 900 nb: 1562\n",
      "training cost: 0.64637 training accuracy: 90.625\n",
      "calculating training cost:\n",
      "epoach: 0 batch: 1000 nb: 1562\n",
      "training cost: 0.739849 training accuracy: 89.84375\n",
      "calculating training cost:\n",
      "epoach: 0 batch: 1100 nb: 1562\n",
      "training cost: 0.765736 training accuracy: 89.84375\n",
      "calculating training cost:\n",
      "epoach: 0 batch: 1200 nb: 1562\n",
      "training cost: 0.738456 training accuracy: 87.5\n",
      "calculating training cost:\n",
      "epoach: 0 batch: 1300 nb: 1562\n",
      "training cost: 0.677648 training accuracy: 92.1875\n",
      "calculating training cost:\n",
      "epoach: 0 batch: 1400 nb: 1562\n",
      "training cost: 0.707206 training accuracy: 89.84375\n",
      "calculating training cost:\n",
      "epoach: 0 batch: 1500 nb: 1562\n",
      "training cost: 0.765055 training accuracy: 86.71875\n"
     ]
    },
    {
     "data": {
      "image/png": "[encoded data removed]",
      "text/plain": [
       "<matplotlib.figure.Figure at 0x141bfe250>"
      ]
     },
     "metadata": {},
     "output_type": "display_data"
    }
   ],
   "source": [
    "model.train(train_dataset,train_labels,batch_sz=128,epochs=1)"
   ]
  }
 ],
 "metadata": {
  "kernelspec": {
   "display_name": "Python 2",
   "language": "python",
   "name": "python2"
  },
  "language_info": {
   "codemirror_mode": {
    "name": "ipython",
    "version": 2
   },
   "file_extension": ".py",
   "mimetype": "text/x-python",
   "name": "python",
   "nbconvert_exporter": "python",
   "pygments_lexer": "ipython2",
   "version": "2.7.10"
  }
 },
 "nbformat": 4,
 "nbformat_minor": 2
}
