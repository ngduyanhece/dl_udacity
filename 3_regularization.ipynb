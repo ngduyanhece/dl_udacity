{
 "cells": [
  {
   "cell_type": "markdown",
   "metadata": {
    "colab_type": "text",
    "deletable": true,
    "editable": true,
    "id": "kR-4eNdK6lYS"
   },
   "source": [
    "Deep Learning\n",
    "=============\n",
    "\n",
    "Assignment 3\n",
    "------------\n",
    "\n",
    "Previously in `2_fullyconnected.ipynb`, you trained a logistic regression and a neural network model.\n",
    "\n",
    "The goal of this assignment is to explore regularization techniques."
   ]
  },
  {
   "cell_type": "code",
   "execution_count": 1,
   "metadata": {
    "cellView": "both",
    "colab": {
     "autoexec": {
      "startup": false,
      "wait_interval": 0
     }
    },
    "colab_type": "code",
    "collapsed": true,
    "deletable": true,
    "editable": true,
    "id": "JLpLa8Jt7Vu4"
   },
   "outputs": [],
   "source": [
    "# These are all the modules we'll be using later. Make sure you can import them\n",
    "# before proceeding further.\n",
    "from __future__ import print_function\n",
    "import numpy as np\n",
    "import tensorflow as tf\n",
    "from six.moves import cPickle as pickle"
   ]
  },
  {
   "cell_type": "markdown",
   "metadata": {
    "colab_type": "text",
    "deletable": true,
    "editable": true,
    "id": "1HrCK6e17WzV"
   },
   "source": [
    "First reload the data we generated in `1_notmnist.ipynb`."
   ]
  },
  {
   "cell_type": "code",
   "execution_count": 2,
   "metadata": {
    "cellView": "both",
    "colab": {
     "autoexec": {
      "startup": false,
      "wait_interval": 0
     },
     "output_extras": [
      {
       "item_id": 1
      }
     ]
    },
    "colab_type": "code",
    "collapsed": false,
    "deletable": true,
    "editable": true,
    "executionInfo": {
     "elapsed": 11777,
     "status": "ok",
     "timestamp": 1449849322348,
     "user": {
      "color": "",
      "displayName": "",
      "isAnonymous": false,
      "isMe": true,
      "permissionId": "",
      "photoUrl": "",
      "sessionId": "0",
      "userId": ""
     },
     "user_tz": 480
    },
    "id": "y3-cj1bpmuxc",
    "outputId": "e03576f1-ebbe-4838-c388-f1777bcc9873"
   },
   "outputs": [
    {
     "name": "stdout",
     "output_type": "stream",
     "text": [
      "Training set (200000, 28, 28) (200000,)\n",
      "Validation set (10000, 28, 28) (10000,)\n",
      "Test set (10000, 28, 28) (10000,)\n"
     ]
    }
   ],
   "source": [
    "pickle_file = 'notMNIST.pickle'\n",
    "\n",
    "with open(pickle_file, 'rb') as f:\n",
    "  save = pickle.load(f)\n",
    "  train_dataset = save['train_dataset']\n",
    "  train_labels = save['train_labels']\n",
    "  valid_dataset = save['valid_dataset']\n",
    "  valid_labels = save['valid_labels']\n",
    "  test_dataset = save['test_dataset']\n",
    "  test_labels = save['test_labels']\n",
    "  del save  # hint to help gc free up memory\n",
    "  print('Training set', train_dataset.shape, train_labels.shape)\n",
    "  print('Validation set', valid_dataset.shape, valid_labels.shape)\n",
    "  print('Test set', test_dataset.shape, test_labels.shape)"
   ]
  },
  {
   "cell_type": "markdown",
   "metadata": {
    "colab_type": "text",
    "deletable": true,
    "editable": true,
    "id": "L7aHrm6nGDMB"
   },
   "source": [
    "Reformat into a shape that's more adapted to the models we're going to train:\n",
    "- data as a flat matrix,\n",
    "- labels as float 1-hot encodings."
   ]
  },
  {
   "cell_type": "code",
   "execution_count": 3,
   "metadata": {
    "cellView": "both",
    "colab": {
     "autoexec": {
      "startup": false,
      "wait_interval": 0
     },
     "output_extras": [
      {
       "item_id": 1
      }
     ]
    },
    "colab_type": "code",
    "collapsed": false,
    "deletable": true,
    "editable": true,
    "executionInfo": {
     "elapsed": 11728,
     "status": "ok",
     "timestamp": 1449849322356,
     "user": {
      "color": "",
      "displayName": "",
      "isAnonymous": false,
      "isMe": true,
      "permissionId": "",
      "photoUrl": "",
      "sessionId": "0",
      "userId": ""
     },
     "user_tz": 480
    },
    "id": "IRSyYiIIGIzS",
    "outputId": "3f8996ee-3574-4f44-c953-5c8a04636582"
   },
   "outputs": [
    {
     "name": "stdout",
     "output_type": "stream",
     "text": [
      "Training set (200000, 784) (200000, 10)\n",
      "Validation set (10000, 784) (10000, 10)\n",
      "Test set (10000, 784) (10000, 10)\n"
     ]
    }
   ],
   "source": [
    "image_size = 28\n",
    "num_labels = 10\n",
    "\n",
    "def reformat(dataset, labels):\n",
    "  dataset = dataset.reshape((-1, image_size * image_size)).astype(np.float32)\n",
    "  # Map 1 to [0.0, 1.0, 0.0 ...], 2 to [0.0, 0.0, 1.0 ...]\n",
    "  labels = (np.arange(num_labels) == labels[:,None]).astype(np.float32)\n",
    "  return dataset, labels\n",
    "train_dataset, train_labels = reformat(train_dataset, train_labels)\n",
    "valid_dataset, valid_labels = reformat(valid_dataset, valid_labels)\n",
    "test_dataset, test_labels = reformat(test_dataset, test_labels)\n",
    "print('Training set', train_dataset.shape, train_labels.shape)\n",
    "print('Validation set', valid_dataset.shape, valid_labels.shape)\n",
    "print('Test set', test_dataset.shape, test_labels.shape)"
   ]
  },
  {
   "cell_type": "code",
   "execution_count": 4,
   "metadata": {
    "cellView": "both",
    "colab": {
     "autoexec": {
      "startup": false,
      "wait_interval": 0
     }
    },
    "colab_type": "code",
    "collapsed": true,
    "deletable": true,
    "editable": true,
    "id": "RajPLaL_ZW6w"
   },
   "outputs": [],
   "source": [
    "def accuracy(predictions, labels):\n",
    "  return (100.0 * np.sum(np.argmax(predictions, 1) == np.argmax(labels, 1))\n",
    "          / predictions.shape[0])"
   ]
  },
  {
   "cell_type": "markdown",
   "metadata": {
    "colab_type": "text",
    "deletable": true,
    "editable": true,
    "id": "sgLbUAQ1CW-1"
   },
   "source": [
    "---\n",
    "Problem 1\n",
    "---------\n",
    "\n",
    "Introduce and tune L2 regularization for both logistic and neural network models. Remember that L2 amounts to adding a penalty on the norm of the weights to the loss. In TensorFlow, you can compute the L2 loss for a tensor `t` using `nn.l2_loss(t)`. The right amount of regularization should improve your validation / test accuracy.\n",
    "\n",
    "---"
   ]
  },
  {
   "cell_type": "markdown",
   "metadata": {},
   "source": [
    "### introduce  L2 regularization for logistic models "
   ]
  },
  {
   "cell_type": "code",
   "execution_count": 5,
   "metadata": {
    "collapsed": true
   },
   "outputs": [],
   "source": [
    "# With gradient descent training, even this much data is prohibitive.\n",
    "# Subset the training data for faster turnaround.\n",
    "reg = 0.01\n",
    "batch_size = 128\n",
    "graph = tf.Graph()\n",
    "with graph.as_default():\n",
    "    # Input data. For the training data, we use a placeholder that will be fed\n",
    "    # at run time with a training minibatch.\n",
    "    tf_train_dataset = tf.placeholder(tf.float32,shape=(batch_size, image_size * image_size))\n",
    "    tf_train_labels = tf.placeholder(tf.float32,shape=(batch_size, num_labels))\n",
    "    tf_valid_dataset = tf.constant(valid_dataset)\n",
    "    tf_test_dataset = tf.constant(test_dataset)\n",
    "    # Variables.\n",
    "    weights = tf.Variable(tf.truncated_normal([image_size * image_size, num_labels]))\n",
    "    biases = tf.Variable(tf.zeros([num_labels]))\n",
    "    # Training computation.\n",
    "    logits = tf.matmul(tf_train_dataset, weights) + biases\n",
    "    loss = tf.reduce_mean(\n",
    "        tf.nn.softmax_cross_entropy_with_logits(labels=tf_train_labels, logits=logits)\n",
    "        + reg*(tf.nn.l2_loss(weights) + tf.nn.l2_loss(biases))\n",
    "    )\n",
    "    # Optimizer.\n",
    "    optimizer = tf.train.GradientDescentOptimizer(0.5).minimize(loss)\n",
    "    # Predictions for the training, validation, and test data.\n",
    "    train_prediction = tf.nn.softmax(logits)\n",
    "    valid_prediction = tf.nn.softmax(\n",
    "    tf.matmul(tf_valid_dataset, weights) + biases)\n",
    "    test_prediction = tf.nn.softmax(tf.matmul(tf_test_dataset, weights) + biases)"
   ]
  },
  {
   "cell_type": "code",
   "execution_count": 6,
   "metadata": {
    "collapsed": false
   },
   "outputs": [
    {
     "name": "stdout",
     "output_type": "stream",
     "text": [
      "Initialized\n",
      "Minibatch loss at step 0: 47.182831\n",
      "Minibatch accuracy: 13.3%\n",
      "Validation accuracy: 16.7%\n",
      "Test accuracy: 16.8%\n",
      "Minibatch loss at step 500: 0.848063\n",
      "Minibatch accuracy: 83.6%\n",
      "Validation accuracy: 81.5%\n",
      "Test accuracy: 87.1%\n",
      "Minibatch loss at step 1000: 0.904085\n",
      "Minibatch accuracy: 77.3%\n",
      "Validation accuracy: 81.2%\n",
      "Test accuracy: 86.9%\n",
      "Minibatch loss at step 1500: 0.692767\n",
      "Minibatch accuracy: 82.0%\n",
      "Validation accuracy: 82.0%\n",
      "Test accuracy: 87.7%\n",
      "Minibatch loss at step 2000: 0.781577\n",
      "Minibatch accuracy: 82.0%\n",
      "Validation accuracy: 82.1%\n",
      "Test accuracy: 87.8%\n",
      "Minibatch loss at step 2500: 0.739436\n",
      "Minibatch accuracy: 85.2%\n",
      "Validation accuracy: 81.8%\n",
      "Test accuracy: 87.3%\n",
      "Minibatch loss at step 3000: 0.784747\n",
      "Minibatch accuracy: 83.6%\n",
      "Validation accuracy: 80.9%\n",
      "Test accuracy: 87.4%\n"
     ]
    }
   ],
   "source": [
    "num_steps = 3001\n",
    "with tf.Session(graph=graph) as session:\n",
    "    tf.global_variables_initializer().run()\n",
    "    print(\"Initialized\")\n",
    "    for step in range(num_steps):\n",
    "        offset = (step * batch_size) % (train_labels.shape[0] - batch_size)\n",
    "        batch_data = train_dataset[offset:(offset + batch_size), :]\n",
    "        batch_labels = train_labels[offset:(offset + batch_size), :]\n",
    "        feed_dict = {tf_train_dataset : batch_data, tf_train_labels : batch_labels}\n",
    "        _, l, predictions = session.run(\n",
    "            [optimizer, loss, train_prediction], feed_dict=feed_dict)\n",
    "        if (step % 500 == 0):\n",
    "            print(\"Minibatch loss at step %d: %f\" % (step, l))\n",
    "            print(\"Minibatch accuracy: %.1f%%\" % accuracy(predictions, batch_labels))\n",
    "            print(\"Validation accuracy: %.1f%%\" % accuracy(\n",
    "                valid_prediction.eval(), valid_labels))\n",
    "            print(\"Test accuracy: %.1f%%\" % accuracy(test_prediction.eval(), test_labels))"
   ]
  },
  {
   "cell_type": "markdown",
   "metadata": {},
   "source": [
    "### introduce  L2 regularization for NNet"
   ]
  },
  {
   "cell_type": "code",
   "execution_count": 7,
   "metadata": {
    "collapsed": true
   },
   "outputs": [],
   "source": [
    "batch_size = 128\n",
    "hidden1 = 1024\n",
    "graph = tf.Graph()\n",
    "#define a forward function \n",
    "def forward(tf_X,W1,b1,W2,b2):\n",
    "    Z1 = tf.nn.relu(tf.matmul(tf_X,W1) + b1)\n",
    "    return tf.matmul(Z1,W2) + b2\n",
    "\n",
    "with graph.as_default():\n",
    "    tf_train_dataset = tf.placeholder(tf.float32,\n",
    "                                    shape=(batch_size, image_size * image_size))\n",
    "    tf_train_labels = tf.placeholder(tf.float32, shape=(batch_size, num_labels))\n",
    "    tf_valid_dataset = tf.constant(valid_dataset)\n",
    "    tf_test_dataset = tf.constant(test_dataset)\n",
    "    #weights \n",
    "    W1 = tf.Variable(\n",
    "        tf.truncated_normal([image_size * image_size, hidden1])\n",
    "    )\n",
    "    b1 = tf.Variable(tf.zeros([hidden1]))\n",
    "    W2 = tf.Variable(\n",
    "        tf.truncated_normal([hidden1,num_labels])\n",
    "    )\n",
    "    b2 = tf.Variable(tf.zeros([num_labels]))\n",
    "    # Training computation\n",
    "    logits_train = forward(tf_train_dataset,W1,b1,W2,b2)\n",
    "    logits_valid = forward(tf_valid_dataset,W1,b1,W2,b2)\n",
    "    logits_test = forward(tf_test_dataset,W1,b1,W2,b2)\n",
    "    cost = tf.nn.softmax_cross_entropy_with_logits(labels=tf_train_labels,logits=logits_train)\n",
    "    reg_cost = tf.nn.l2_loss(W1) + tf.nn.l2_loss(b1) + tf.nn.l2_loss(W2) + tf.nn.l2_loss(b2)\n",
    "    loss = tf.reduce_mean(cost + reg*reg_cost)\n",
    "    # Optimizer\n",
    "    optimizer = tf.train.GradientDescentOptimizer(0.5).minimize(loss)\n",
    "    train_prediction = tf.nn.softmax(logits_train)\n",
    "    valid_prediction = tf.nn.softmax(logits_valid)\n",
    "    test_prediction = tf.nn.softmax(logits_test)"
   ]
  },
  {
   "cell_type": "code",
   "execution_count": 8,
   "metadata": {
    "collapsed": false
   },
   "outputs": [
    {
     "name": "stdout",
     "output_type": "stream",
     "text": [
      "Initialized\n",
      "Minibatch loss at step 0: 3584.409424\n",
      "Minibatch accuracy: 3.9%\n",
      "Validation accuracy: 27.3%\n",
      "Test accuracy: 29.7%\n",
      "Minibatch loss at step 500: 21.135113\n",
      "Minibatch accuracy: 88.3%\n",
      "Validation accuracy: 84.8%\n",
      "Test accuracy: 90.6%\n",
      "Minibatch loss at step 1000: 0.962792\n",
      "Minibatch accuracy: 81.2%\n",
      "Validation accuracy: 83.8%\n",
      "Test accuracy: 89.6%\n",
      "Minibatch loss at step 1500: 0.704695\n",
      "Minibatch accuracy: 87.5%\n",
      "Validation accuracy: 84.0%\n",
      "Test accuracy: 90.0%\n",
      "Minibatch loss at step 2000: 0.682201\n",
      "Minibatch accuracy: 85.9%\n",
      "Validation accuracy: 84.2%\n",
      "Test accuracy: 90.0%\n",
      "Minibatch loss at step 2500: 0.681856\n",
      "Minibatch accuracy: 86.7%\n",
      "Validation accuracy: 83.4%\n",
      "Test accuracy: 89.2%\n",
      "Minibatch loss at step 3000: 0.713703\n",
      "Minibatch accuracy: 86.7%\n",
      "Validation accuracy: 83.5%\n",
      "Test accuracy: 89.7%\n",
      "Minibatch loss at step 3500: 0.713135\n",
      "Minibatch accuracy: 83.6%\n",
      "Validation accuracy: 83.6%\n",
      "Test accuracy: 89.5%\n",
      "Minibatch loss at step 4000: 0.749180\n",
      "Minibatch accuracy: 83.6%\n",
      "Validation accuracy: 84.5%\n",
      "Test accuracy: 90.2%\n",
      "Minibatch loss at step 4500: 0.814700\n",
      "Minibatch accuracy: 80.5%\n",
      "Validation accuracy: 84.0%\n",
      "Test accuracy: 89.8%\n",
      "Minibatch loss at step 5000: 0.785620\n",
      "Minibatch accuracy: 79.7%\n",
      "Validation accuracy: 83.9%\n",
      "Test accuracy: 89.6%\n",
      "Minibatch loss at step 5500: 0.764322\n",
      "Minibatch accuracy: 82.0%\n",
      "Validation accuracy: 84.0%\n",
      "Test accuracy: 89.8%\n",
      "Minibatch loss at step 6000: 0.634873\n",
      "Minibatch accuracy: 89.1%\n",
      "Validation accuracy: 82.1%\n",
      "Test accuracy: 88.5%\n",
      "Minibatch loss at step 6500: 0.665639\n",
      "Minibatch accuracy: 82.8%\n",
      "Validation accuracy: 83.4%\n",
      "Test accuracy: 89.3%\n",
      "Minibatch loss at step 7000: 0.688899\n",
      "Minibatch accuracy: 85.9%\n",
      "Validation accuracy: 83.3%\n",
      "Test accuracy: 89.3%\n",
      "Minibatch loss at step 7500: 0.598921\n",
      "Minibatch accuracy: 88.3%\n",
      "Validation accuracy: 84.7%\n",
      "Test accuracy: 91.0%\n",
      "Minibatch loss at step 8000: 0.706607\n",
      "Minibatch accuracy: 85.2%\n",
      "Validation accuracy: 84.6%\n",
      "Test accuracy: 90.3%\n",
      "Minibatch loss at step 8500: 0.684741\n",
      "Minibatch accuracy: 83.6%\n",
      "Validation accuracy: 84.3%\n",
      "Test accuracy: 90.0%\n",
      "Minibatch loss at step 9000: 0.689083\n",
      "Minibatch accuracy: 86.7%\n",
      "Validation accuracy: 84.0%\n",
      "Test accuracy: 90.2%\n",
      "Minibatch loss at step 9500: 0.569011\n",
      "Minibatch accuracy: 89.8%\n",
      "Validation accuracy: 84.0%\n",
      "Test accuracy: 90.0%\n"
     ]
    }
   ],
   "source": [
    "num_steps = 10000\n",
    "with tf.Session(graph=graph) as session:\n",
    "    tf.global_variables_initializer().run()\n",
    "    print(\"Initialized\")\n",
    "    for step in range(num_steps):\n",
    "        offset = (step * batch_size) % (train_labels.shape[0] - batch_size)\n",
    "        batch_data = train_dataset[offset:(offset + batch_size), :]\n",
    "        batch_labels = train_labels[offset:(offset + batch_size), :]\n",
    "        feed_dict = {tf_train_dataset : batch_data, tf_train_labels : batch_labels}\n",
    "        _, l, predictions = session.run(\n",
    "          [optimizer, loss, train_prediction], feed_dict=feed_dict)\n",
    "        if (step % 500 == 0):\n",
    "            print(\"Minibatch loss at step %d: %f\" % (step, l))\n",
    "            print(\"Minibatch accuracy: %.1f%%\" % accuracy(predictions, batch_labels))\n",
    "            print(\"Validation accuracy: %.1f%%\" % accuracy(\n",
    "                valid_prediction.eval(), valid_labels))\n",
    "            print(\"Test accuracy: %.1f%%\" % accuracy(test_prediction.eval(), test_labels))"
   ]
  },
  {
   "cell_type": "markdown",
   "metadata": {
    "colab_type": "text",
    "deletable": true,
    "editable": true,
    "id": "na8xX2yHZzNF"
   },
   "source": [
    "---\n",
    "Problem 2\n",
    "---------\n",
    "Let's demonstrate an extreme case of overfitting. Restrict your training data to just a few batches. What happens?\n",
    "\n",
    "---"
   ]
  },
  {
   "cell_type": "code",
   "execution_count": 11,
   "metadata": {
    "collapsed": true
   },
   "outputs": [],
   "source": [
    "batch_size = 5000\n",
    "hidden1 = 1024\n",
    "graph = tf.Graph()\n",
    "#define a forward function \n",
    "def forward(tf_X,W1,b1,W2,b2):\n",
    "    Z1 = tf.nn.relu(tf.matmul(tf_X,W1) + b1)\n",
    "    return tf.matmul(Z1,W2) + b2\n",
    "\n",
    "with graph.as_default():\n",
    "    tf_train_dataset = tf.placeholder(tf.float32,\n",
    "                                    shape=(batch_size, image_size * image_size))\n",
    "    tf_train_labels = tf.placeholder(tf.float32, shape=(batch_size, num_labels))\n",
    "    tf_valid_dataset = tf.constant(valid_dataset)\n",
    "    tf_test_dataset = tf.constant(test_dataset)\n",
    "    #weights \n",
    "    W1 = tf.Variable(\n",
    "        tf.truncated_normal([image_size * image_size, hidden1])\n",
    "    )\n",
    "    b1 = tf.Variable(tf.zeros([hidden1]))\n",
    "    W2 = tf.Variable(\n",
    "        tf.truncated_normal([hidden1,num_labels])\n",
    "    )\n",
    "    b2 = tf.Variable(tf.zeros([num_labels]))\n",
    "    # Training computation\n",
    "    logits_train = forward(tf_train_dataset,W1,b1,W2,b2)\n",
    "    logits_valid = forward(tf_valid_dataset,W1,b1,W2,b2)\n",
    "    logits_test = forward(tf_test_dataset,W1,b1,W2,b2)\n",
    "    cost = tf.nn.softmax_cross_entropy_with_logits(labels=tf_train_labels,logits=logits_train)\n",
    "    reg_cost = tf.nn.l2_loss(W1) + tf.nn.l2_loss(b1) + tf.nn.l2_loss(W2) + tf.nn.l2_loss(b2)\n",
    "    loss = tf.reduce_mean(cost + reg*reg_cost)\n",
    "    # Optimizer\n",
    "    optimizer = tf.train.GradientDescentOptimizer(0.5).minimize(loss)\n",
    "    train_prediction = tf.nn.softmax(logits_train)\n",
    "    valid_prediction = tf.nn.softmax(logits_valid)\n",
    "    test_prediction = tf.nn.softmax(logits_test)"
   ]
  },
  {
   "cell_type": "code",
   "execution_count": 12,
   "metadata": {
    "collapsed": false
   },
   "outputs": [
    {
     "name": "stdout",
     "output_type": "stream",
     "text": [
      "Initialized\n",
      "Minibatch loss at step 0: 3517.466309\n",
      "Minibatch accuracy: 6.3%\n",
      "Validation accuracy: 37.1%\n",
      "Test accuracy: 39.5%\n",
      "Minibatch loss at step 500: 21.155981\n",
      "Minibatch accuracy: 86.6%\n",
      "Validation accuracy: 86.9%\n",
      "Test accuracy: 92.7%\n",
      "Minibatch loss at step 1000: 0.863471\n",
      "Minibatch accuracy: 83.9%\n",
      "Validation accuracy: 85.7%\n",
      "Test accuracy: 91.2%\n",
      "Minibatch loss at step 1500: 0.694955\n",
      "Minibatch accuracy: 84.3%\n",
      "Validation accuracy: 85.8%\n",
      "Test accuracy: 91.2%\n",
      "Minibatch loss at step 2000: 0.671810\n",
      "Minibatch accuracy: 85.6%\n",
      "Validation accuracy: 85.7%\n",
      "Test accuracy: 91.2%\n",
      "Minibatch loss at step 2500: 0.695988\n",
      "Minibatch accuracy: 85.1%\n",
      "Validation accuracy: 85.7%\n",
      "Test accuracy: 91.3%\n",
      "Minibatch loss at step 3000: 0.681289\n",
      "Minibatch accuracy: 85.4%\n",
      "Validation accuracy: 85.7%\n",
      "Test accuracy: 91.2%\n",
      "Minibatch loss at step 3500: 0.703297\n",
      "Minibatch accuracy: 84.9%\n",
      "Validation accuracy: 85.8%\n",
      "Test accuracy: 91.2%\n",
      "Minibatch loss at step 4000: 0.680086\n",
      "Minibatch accuracy: 85.1%\n",
      "Validation accuracy: 85.9%\n",
      "Test accuracy: 91.3%\n",
      "Minibatch loss at step 4500: 0.702430\n",
      "Minibatch accuracy: 85.1%\n",
      "Validation accuracy: 85.7%\n",
      "Test accuracy: 91.3%\n",
      "Minibatch loss at step 5000: 0.699433\n",
      "Minibatch accuracy: 84.9%\n",
      "Validation accuracy: 85.7%\n",
      "Test accuracy: 91.3%\n",
      "Minibatch loss at step 5500: 0.698221\n",
      "Minibatch accuracy: 84.9%\n",
      "Validation accuracy: 85.8%\n",
      "Test accuracy: 91.3%\n",
      "Minibatch loss at step 6000: 0.648392\n",
      "Minibatch accuracy: 87.1%\n",
      "Validation accuracy: 85.8%\n",
      "Test accuracy: 91.2%\n",
      "Minibatch loss at step 6500: 0.691004\n",
      "Minibatch accuracy: 84.9%\n",
      "Validation accuracy: 85.7%\n",
      "Test accuracy: 91.2%\n",
      "Minibatch loss at step 7000: 0.676420\n",
      "Minibatch accuracy: 85.7%\n",
      "Validation accuracy: 85.7%\n",
      "Test accuracy: 91.3%\n",
      "Minibatch loss at step 7500: 0.716005\n",
      "Minibatch accuracy: 84.1%\n",
      "Validation accuracy: 85.8%\n",
      "Test accuracy: 91.3%\n",
      "Minibatch loss at step 8000: 0.681487\n",
      "Minibatch accuracy: 85.1%\n",
      "Validation accuracy: 85.8%\n",
      "Test accuracy: 91.2%\n",
      "Minibatch loss at step 8500: 0.681032\n",
      "Minibatch accuracy: 85.3%\n",
      "Validation accuracy: 85.9%\n",
      "Test accuracy: 91.2%\n",
      "Minibatch loss at step 9000: 0.694565\n",
      "Minibatch accuracy: 84.9%\n",
      "Validation accuracy: 85.7%\n",
      "Test accuracy: 91.2%\n",
      "Minibatch loss at step 9500: 0.713586\n",
      "Minibatch accuracy: 84.3%\n",
      "Validation accuracy: 85.8%\n",
      "Test accuracy: 91.2%\n"
     ]
    }
   ],
   "source": [
    "num_steps = 10000\n",
    "with tf.Session(graph=graph) as session:\n",
    "    tf.global_variables_initializer().run()\n",
    "    print(\"Initialized\")\n",
    "    for step in range(num_steps):\n",
    "        offset = (step * batch_size) % (train_labels.shape[0] - batch_size)\n",
    "        batch_data = train_dataset[offset:(offset + batch_size), :]\n",
    "        batch_labels = train_labels[offset:(offset + batch_size), :]\n",
    "        feed_dict = {tf_train_dataset : batch_data, tf_train_labels : batch_labels}\n",
    "        _, l, predictions = session.run(\n",
    "          [optimizer, loss, train_prediction], feed_dict=feed_dict)\n",
    "        if (step % 500 == 0):\n",
    "            print(\"Minibatch loss at step %d: %f\" % (step, l))\n",
    "            print(\"Minibatch accuracy: %.1f%%\" % accuracy(predictions, batch_labels))\n",
    "            print(\"Validation accuracy: %.1f%%\" % accuracy(\n",
    "                valid_prediction.eval(), valid_labels))\n",
    "            print(\"Test accuracy: %.1f%%\" % accuracy(test_prediction.eval(), test_labels))"
   ]
  },
  {
   "cell_type": "markdown",
   "metadata": {
    "colab_type": "text",
    "deletable": true,
    "editable": true,
    "id": "ww3SCBUdlkRc"
   },
   "source": [
    "---\n",
    "Problem 3\n",
    "---------\n",
    "Introduce Dropout on the hidden layer of the neural network. Remember: Dropout should only be introduced during training, not evaluation, otherwise your evaluation results would be stochastic as well. TensorFlow provides `nn.dropout()` for that, but you have to make sure it's only inserted during training.\n",
    "\n",
    "What happens to our extreme overfitting case?\n",
    "\n",
    "---"
   ]
  },
  {
   "cell_type": "code",
   "execution_count": 16,
   "metadata": {
    "collapsed": false
   },
   "outputs": [],
   "source": [
    "batch_size = 5000\n",
    "hidden1 = 1024\n",
    "graph = tf.Graph()\n",
    "#define a forward function \n",
    "def forward_train(tf_X,W1,b1,W2,b2):\n",
    "    Z1 = tf.nn.relu(tf.matmul(tf_X,W1) + b1)\n",
    "    Z2 = tf.matmul(Z1,W2) + b2\n",
    "    return tf.nn.dropout(Z2,0.5)\n",
    "def forward_predict(tf_X,W1,b1,W2,b2):\n",
    "    Z1 = tf.nn.relu(tf.matmul(tf_X,W1) + b1)\n",
    "    return tf.matmul(Z1,W2) + b2\n",
    "\n",
    "with graph.as_default():\n",
    "    tf_train_dataset = tf.placeholder(tf.float32,\n",
    "                                    shape=(batch_size, image_size * image_size))\n",
    "    tf_train_labels = tf.placeholder(tf.float32, shape=(batch_size, num_labels))\n",
    "    tf_valid_dataset = tf.constant(valid_dataset)\n",
    "    tf_test_dataset = tf.constant(test_dataset)\n",
    "    #weights \n",
    "    W1 = tf.Variable(\n",
    "        tf.truncated_normal([image_size * image_size, hidden1])\n",
    "    )\n",
    "    b1 = tf.Variable(tf.zeros([hidden1]))\n",
    "    W2 = tf.Variable(\n",
    "        tf.truncated_normal([hidden1,num_labels])\n",
    "    )\n",
    "    b2 = tf.Variable(tf.zeros([num_labels]))\n",
    "    # Training computation\n",
    "    logits = forward_train(tf_train_dataset,W1,b1,W2,b2)\n",
    "    logits_train = forward_predict(tf_train_dataset,W1,b1,W2,b2)\n",
    "    logits_valid = forward_predict(tf_valid_dataset,W1,b1,W2,b2)\n",
    "    logits_test = forward_predict(tf_test_dataset,W1,b1,W2,b2)\n",
    "    cost = tf.nn.softmax_cross_entropy_with_logits(labels=tf_train_labels,logits=logits)\n",
    "    reg_cost = tf.nn.l2_loss(W1) + tf.nn.l2_loss(b1) + tf.nn.l2_loss(W2) + tf.nn.l2_loss(b2)\n",
    "    loss = tf.reduce_mean(cost + reg*reg_cost)\n",
    "    # Optimizer\n",
    "    optimizer = tf.train.GradientDescentOptimizer(0.5).minimize(loss)\n",
    "    train_prediction = tf.nn.softmax(logits_train)\n",
    "    valid_prediction = tf.nn.softmax(logits_valid)\n",
    "    test_prediction = tf.nn.softmax(logits_test)"
   ]
  },
  {
   "cell_type": "code",
   "execution_count": 17,
   "metadata": {
    "collapsed": false
   },
   "outputs": [
    {
     "name": "stdout",
     "output_type": "stream",
     "text": [
      "Initialized\n",
      "Minibatch loss at step 0: 3772.545654\n",
      "Minibatch accuracy: 14.4%\n",
      "Validation accuracy: 34.2%\n",
      "Test accuracy: 36.7%\n",
      "Minibatch loss at step 500: 21.772900\n",
      "Minibatch accuracy: 86.7%\n",
      "Validation accuracy: 86.6%\n",
      "Test accuracy: 92.5%\n",
      "Minibatch loss at step 1000: 1.469686\n",
      "Minibatch accuracy: 83.9%\n",
      "Validation accuracy: 85.5%\n",
      "Test accuracy: 91.1%\n",
      "Minibatch loss at step 1500: 1.334017\n",
      "Minibatch accuracy: 84.3%\n",
      "Validation accuracy: 85.5%\n",
      "Test accuracy: 91.0%\n",
      "Minibatch loss at step 2000: 1.324668\n",
      "Minibatch accuracy: 85.5%\n",
      "Validation accuracy: 85.4%\n",
      "Test accuracy: 91.1%\n",
      "Minibatch loss at step 2500: 1.336433\n",
      "Minibatch accuracy: 84.7%\n",
      "Validation accuracy: 85.7%\n",
      "Test accuracy: 91.1%\n",
      "Minibatch loss at step 3000: 1.320215\n",
      "Minibatch accuracy: 85.3%\n",
      "Validation accuracy: 85.6%\n",
      "Test accuracy: 91.2%\n",
      "Minibatch loss at step 3500: 1.334157\n",
      "Minibatch accuracy: 84.8%\n",
      "Validation accuracy: 85.7%\n",
      "Test accuracy: 91.0%\n",
      "Minibatch loss at step 4000: 1.357705\n",
      "Minibatch accuracy: 84.9%\n",
      "Validation accuracy: 85.8%\n",
      "Test accuracy: 91.3%\n",
      "Minibatch loss at step 4500: 1.379547\n",
      "Minibatch accuracy: 85.1%\n",
      "Validation accuracy: 85.7%\n",
      "Test accuracy: 91.2%\n"
     ]
    }
   ],
   "source": [
    "num_steps = 5000\n",
    "with tf.Session(graph=graph) as session:\n",
    "    tf.global_variables_initializer().run()\n",
    "    print(\"Initialized\")\n",
    "    for step in range(num_steps):\n",
    "        offset = (step * batch_size) % (train_labels.shape[0] - batch_size)\n",
    "        batch_data = train_dataset[offset:(offset + batch_size), :]\n",
    "        batch_labels = train_labels[offset:(offset + batch_size), :]\n",
    "        feed_dict = {tf_train_dataset : batch_data, tf_train_labels : batch_labels}\n",
    "        _, l, predictions = session.run(\n",
    "          [optimizer, loss, train_prediction], feed_dict=feed_dict)\n",
    "        if (step % 500 == 0):\n",
    "            print(\"Minibatch loss at step %d: %f\" % (step, l))\n",
    "            print(\"Minibatch accuracy: %.1f%%\" % accuracy(predictions, batch_labels))\n",
    "            print(\"Validation accuracy: %.1f%%\" % accuracy(\n",
    "                valid_prediction.eval(), valid_labels))\n",
    "            print(\"Test accuracy: %.1f%%\" % accuracy(test_prediction.eval(), test_labels))"
   ]
  },
  {
   "cell_type": "markdown",
   "metadata": {
    "colab_type": "text",
    "deletable": true,
    "editable": true,
    "id": "-b1hTz3VWZjw"
   },
   "source": [
    "---\n",
    "Problem 4\n",
    "---------\n",
    "\n",
    "Try to get the best performance you can using a multi-layer model! The best reported test accuracy using a deep network is [97.1%](http://yaroslavvb.blogspot.com/2011/09/notmnist-dataset.html?showComment=1391023266211#c8758720086795711595).\n",
    "\n",
    "One avenue you can explore is to add multiple layers.\n",
    "\n",
    "Another one is to use learning rate decay:\n",
    "\n",
    "    global_step = tf.Variable(0)  # count the number of steps taken.\n",
    "    learning_rate = tf.train.exponential_decay(0.5, global_step, ...)\n",
    "    optimizer = tf.train.GradientDescentOptimizer(learning_rate).minimize(loss, global_step=global_step)\n",
    " \n",
    " ---\n"
   ]
  },
  {
   "cell_type": "code",
   "execution_count": 22,
   "metadata": {
    "collapsed": true
   },
   "outputs": [],
   "source": [
    "batch_size = 5000\n",
    "hidden1 = 1024\n",
    "graph = tf.Graph()\n",
    "#define a forward function \n",
    "def forward_train(tf_X,W1,b1,W2,b2):\n",
    "    Z1 = tf.nn.relu(tf.matmul(tf_X,W1) + b1)\n",
    "    Z2 = tf.matmul(Z1,W2) + b2\n",
    "    return tf.nn.dropout(Z2,0.5)\n",
    "def forward_predict(tf_X,W1,b1,W2,b2):\n",
    "    Z1 = tf.nn.relu(tf.matmul(tf_X,W1) + b1)\n",
    "    return tf.matmul(Z1,W2) + b2\n",
    "\n",
    "with graph.as_default():\n",
    "    global_step = tf.Variable(0, trainable=False)\n",
    "    starter_learning_rate = 0.5\n",
    "    learning_rate = tf.train.exponential_decay(starter_learning_rate, global_step,\n",
    "                                           100000, 0.96, staircase=True)\n",
    "    tf_train_dataset = tf.placeholder(tf.float32,\n",
    "                                    shape=(batch_size, image_size * image_size))\n",
    "    tf_train_labels = tf.placeholder(tf.float32, shape=(batch_size, num_labels))\n",
    "    tf_valid_dataset = tf.constant(valid_dataset)\n",
    "    tf_test_dataset = tf.constant(test_dataset)\n",
    "    #weights \n",
    "    W1 = tf.Variable(\n",
    "        tf.truncated_normal([image_size * image_size, hidden1])\n",
    "    )\n",
    "    b1 = tf.Variable(tf.zeros([hidden1]))\n",
    "    W2 = tf.Variable(\n",
    "        tf.truncated_normal([hidden1,num_labels])\n",
    "    )\n",
    "    b2 = tf.Variable(tf.zeros([num_labels]))\n",
    "    # Training computation\n",
    "    logits = forward_train(tf_train_dataset,W1,b1,W2,b2)\n",
    "    logits_train = forward_predict(tf_train_dataset,W1,b1,W2,b2)\n",
    "    logits_valid = forward_predict(tf_valid_dataset,W1,b1,W2,b2)\n",
    "    logits_test = forward_predict(tf_test_dataset,W1,b1,W2,b2)\n",
    "    cost = tf.nn.softmax_cross_entropy_with_logits(labels=tf_train_labels,logits=logits)\n",
    "    reg_cost = tf.nn.l2_loss(W1) + tf.nn.l2_loss(b1) + tf.nn.l2_loss(W2) + tf.nn.l2_loss(b2)\n",
    "    loss = tf.reduce_mean(cost + reg*reg_cost)\n",
    "    # Optimizer\n",
    "    optimizer = tf.train.GradientDescentOptimizer(learning_rate).minimize(loss,global_step=global_step)\n",
    "    train_prediction = tf.nn.softmax(logits_train)\n",
    "    valid_prediction = tf.nn.softmax(logits_valid)\n",
    "    test_prediction = tf.nn.softmax(logits_test)"
   ]
  },
  {
   "cell_type": "code",
   "execution_count": 23,
   "metadata": {
    "collapsed": false
   },
   "outputs": [
    {
     "name": "stdout",
     "output_type": "stream",
     "text": [
      "Initialized\n",
      "Minibatch loss at step 0: 3735.712402\n",
      "Minibatch accuracy: 8.3%\n",
      "Validation accuracy: 30.2%\n",
      "Test accuracy: 31.8%\n",
      "Minibatch loss at step 500: 21.791349\n",
      "Minibatch accuracy: 86.5%\n",
      "Validation accuracy: 86.4%\n",
      "Test accuracy: 92.3%\n",
      "Minibatch loss at step 1000: 1.497170\n",
      "Minibatch accuracy: 84.0%\n",
      "Validation accuracy: 85.3%\n",
      "Test accuracy: 91.0%\n",
      "Minibatch loss at step 1500: 1.340338\n",
      "Minibatch accuracy: 84.4%\n",
      "Validation accuracy: 85.5%\n",
      "Test accuracy: 91.2%\n"
     ]
    }
   ],
   "source": [
    "num_steps = 2000\n",
    "with tf.Session(graph=graph) as session:\n",
    "    tf.global_variables_initializer().run()\n",
    "    print(\"Initialized\")\n",
    "    for step in range(num_steps):\n",
    "        offset = (step * batch_size) % (train_labels.shape[0] - batch_size)\n",
    "        batch_data = train_dataset[offset:(offset + batch_size), :]\n",
    "        batch_labels = train_labels[offset:(offset + batch_size), :]\n",
    "        feed_dict = {tf_train_dataset : batch_data, tf_train_labels : batch_labels}\n",
    "        _, l, predictions = session.run(\n",
    "          [optimizer, loss, train_prediction], feed_dict=feed_dict)\n",
    "        if (step % 500 == 0):\n",
    "            print(\"Minibatch loss at step %d: %f\" % (step, l))\n",
    "            print(\"Minibatch accuracy: %.1f%%\" % accuracy(predictions, batch_labels))\n",
    "            print(\"Validation accuracy: %.1f%%\" % accuracy(\n",
    "                valid_prediction.eval(), valid_labels))\n",
    "            print(\"Test accuracy: %.1f%%\" % accuracy(test_prediction.eval(), test_labels))"
   ]
  },
  {
   "cell_type": "markdown",
   "metadata": {},
   "source": [
    "### apply the RMS prop "
   ]
  },
  {
   "cell_type": "code",
   "execution_count": 43,
   "metadata": {
    "collapsed": false
   },
   "outputs": [],
   "source": [
    "batch_size = 1000\n",
    "hidden1 = 1024\n",
    "graph = tf.Graph()\n",
    "#define a forward function \n",
    "def forward_train(tf_X,W1,b1,W2,b2):\n",
    "    Z1 = tf.nn.relu(tf.matmul(tf_X,W1) + b1)\n",
    "    Z2 = tf.matmul(Z1,W2) + b2\n",
    "    return tf.nn.dropout(Z2,0.5)\n",
    "def forward_predict(tf_X,W1,b1,W2,b2):\n",
    "    Z1 = tf.nn.relu(tf.matmul(tf_X,W1) + b1)\n",
    "    return tf.matmul(Z1,W2) + b2\n",
    "\n",
    "with graph.as_default():\n",
    "    global_step = tf.Variable(0, trainable=False)\n",
    "    starter_learning_rate = 0.5\n",
    "    learning_rate = tf.train.exponential_decay(starter_learning_rate, global_step,\n",
    "                                           100000, 0.96, staircase=True)\n",
    "    tf_train_dataset = tf.placeholder(tf.float32,\n",
    "                                    shape=(batch_size, image_size * image_size))\n",
    "    tf_train_labels = tf.placeholder(tf.float32, shape=(batch_size, num_labels))\n",
    "    tf_valid_dataset = tf.constant(valid_dataset)\n",
    "    tf_test_dataset = tf.constant(test_dataset)\n",
    "    #weights \n",
    "    W1 = tf.Variable(\n",
    "        tf.truncated_normal([image_size * image_size, hidden1])\n",
    "    )\n",
    "    b1 = tf.Variable(tf.zeros([hidden1]))\n",
    "    W2 = tf.Variable(\n",
    "        tf.truncated_normal([hidden1,num_labels])\n",
    "    )\n",
    "    b2 = tf.Variable(tf.zeros([num_labels]))\n",
    "    # Training computation\n",
    "    logits = forward_train(tf_train_dataset,W1,b1,W2,b2)\n",
    "    logits_train = forward_predict(tf_train_dataset,W1,b1,W2,b2)\n",
    "    logits_valid = forward_predict(tf_valid_dataset,W1,b1,W2,b2)\n",
    "    logits_test = forward_predict(tf_test_dataset,W1,b1,W2,b2)\n",
    "    cost = tf.nn.softmax_cross_entropy_with_logits(labels=tf_train_labels,logits=logits)\n",
    "    reg_cost = tf.nn.l2_loss(W1) + tf.nn.l2_loss(b1) + tf.nn.l2_loss(W2) + tf.nn.l2_loss(b2)\n",
    "    loss = tf.reduce_mean(cost + reg*reg_cost)\n",
    "    # Optimizer\n",
    "    optimizer = tf.train.RMSPropOptimizer(learning_rate=1e-4,decay=0.999,momentum=0.9).minimize(loss)\n",
    "    train_prediction = tf.nn.softmax(logits_train)\n",
    "    valid_prediction = tf.nn.softmax(logits_valid)\n",
    "    test_prediction = tf.nn.softmax(logits_test)"
   ]
  },
  {
   "cell_type": "code",
   "execution_count": 44,
   "metadata": {
    "collapsed": false
   },
   "outputs": [
    {
     "name": "stdout",
     "output_type": "stream",
     "text": [
      "Initialized\n",
      "Minibatch loss at step 0: 3657.626465\n",
      "Minibatch accuracy: 10.2%\n",
      "Validation accuracy: 9.4%\n",
      "Test accuracy: 9.2%\n",
      "Minibatch loss at step 500: 3174.075928\n",
      "Minibatch accuracy: 64.0%\n",
      "Validation accuracy: 62.0%\n",
      "Test accuracy: 68.1%\n",
      "Minibatch loss at step 1000: 3114.821533\n",
      "Minibatch accuracy: 66.3%\n",
      "Validation accuracy: 70.2%\n",
      "Test accuracy: 76.4%\n",
      "Minibatch loss at step 1500: 3045.711426\n",
      "Minibatch accuracy: 73.3%\n",
      "Validation accuracy: 73.6%\n",
      "Test accuracy: 79.9%\n",
      "Minibatch loss at step 2000: 2963.413086\n",
      "Minibatch accuracy: 74.3%\n",
      "Validation accuracy: 75.4%\n",
      "Test accuracy: 82.2%\n",
      "Minibatch loss at step 2500: 2872.161621\n",
      "Minibatch accuracy: 77.1%\n",
      "Validation accuracy: 76.8%\n",
      "Test accuracy: 83.5%\n",
      "Minibatch loss at step 3000: 2752.740479\n",
      "Minibatch accuracy: 76.8%\n",
      "Validation accuracy: 77.9%\n",
      "Test accuracy: 84.3%\n",
      "Minibatch loss at step 3500: 2618.996094\n",
      "Minibatch accuracy: 76.3%\n",
      "Validation accuracy: 78.6%\n",
      "Test accuracy: 85.2%\n",
      "Minibatch loss at step 4000: 2448.225586\n",
      "Minibatch accuracy: 77.1%\n",
      "Validation accuracy: 79.5%\n",
      "Test accuracy: 86.0%\n",
      "Minibatch loss at step 4500: 2245.196045\n",
      "Minibatch accuracy: 80.3%\n",
      "Validation accuracy: 80.2%\n",
      "Test accuracy: 86.6%\n",
      "Minibatch loss at step 5000: 2019.871094\n",
      "Minibatch accuracy: 80.1%\n",
      "Validation accuracy: 80.8%\n",
      "Test accuracy: 87.2%\n",
      "Minibatch loss at step 5500: 1764.121704\n",
      "Minibatch accuracy: 78.3%\n",
      "Validation accuracy: 81.4%\n",
      "Test accuracy: 87.7%\n",
      "Minibatch loss at step 6000: 1478.572998\n",
      "Minibatch accuracy: 80.0%\n",
      "Validation accuracy: 81.8%\n",
      "Test accuracy: 88.1%\n",
      "Minibatch loss at step 6500: 1186.143555\n",
      "Minibatch accuracy: 82.0%\n",
      "Validation accuracy: 82.0%\n",
      "Test accuracy: 88.7%\n",
      "Minibatch loss at step 7000: 896.932800\n",
      "Minibatch accuracy: 82.5%\n",
      "Validation accuracy: 82.5%\n",
      "Test accuracy: 89.0%\n",
      "Minibatch loss at step 7500: 630.088074\n",
      "Minibatch accuracy: 84.3%\n",
      "Validation accuracy: 82.8%\n",
      "Test accuracy: 89.8%\n",
      "Minibatch loss at step 8000: 404.795319\n",
      "Minibatch accuracy: 83.7%\n",
      "Validation accuracy: 83.5%\n",
      "Test accuracy: 89.8%\n",
      "Minibatch loss at step 8500: 231.901688\n",
      "Minibatch accuracy: 85.6%\n",
      "Validation accuracy: 84.0%\n",
      "Test accuracy: 90.6%\n",
      "Minibatch loss at step 9000: 115.441879\n",
      "Minibatch accuracy: 85.0%\n",
      "Validation accuracy: 84.5%\n",
      "Test accuracy: 91.0%\n",
      "Minibatch loss at step 9500: 48.448288\n",
      "Minibatch accuracy: 87.0%\n",
      "Validation accuracy: 85.6%\n",
      "Test accuracy: 91.7%\n"
     ]
    }
   ],
   "source": [
    "num_steps = 10000\n",
    "with tf.Session(graph=graph) as session:\n",
    "    tf.global_variables_initializer().run()\n",
    "    print(\"Initialized\")\n",
    "    for step in range(num_steps):\n",
    "        offset = (step * batch_size) % (train_labels.shape[0] - batch_size)\n",
    "        batch_data = train_dataset[offset:(offset + batch_size), :]\n",
    "        batch_labels = train_labels[offset:(offset + batch_size), :]\n",
    "        feed_dict = {tf_train_dataset : batch_data, tf_train_labels : batch_labels}\n",
    "        _, l, predictions = session.run(\n",
    "          [optimizer, loss, train_prediction], feed_dict=feed_dict)\n",
    "        if (step % 500 == 0):\n",
    "            print(\"Minibatch loss at step %d: %f\" % (step, l))\n",
    "            print(\"Minibatch accuracy: %.1f%%\" % accuracy(predictions, batch_labels))\n",
    "            print(\"Validation accuracy: %.1f%%\" % accuracy(\n",
    "                valid_prediction.eval(), valid_labels))\n",
    "            print(\"Test accuracy: %.1f%%\" % accuracy(test_prediction.eval(), test_labels))"
   ]
  }
 ],
 "metadata": {
  "colab": {
   "default_view": {},
   "name": "3_regularization.ipynb",
   "provenance": [],
   "version": "0.3.2",
   "views": {}
  },
  "kernelspec": {
   "display_name": "Python 2",
   "language": "python",
   "name": "python2"
  },
  "language_info": {
   "codemirror_mode": {
    "name": "ipython",
    "version": 2
   },
   "file_extension": ".py",
   "mimetype": "text/x-python",
   "name": "python",
   "nbconvert_exporter": "python",
   "pygments_lexer": "ipython2",
   "version": "2.7.10"
  }
 },
 "nbformat": 4,
 "nbformat_minor": 0
}
